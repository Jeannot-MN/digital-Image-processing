{
 "cells": [
  {
   "cell_type": "code",
   "execution_count": 9,
   "outputs": [
    {
     "name": "stdout",
     "output_type": "stream",
     "text": [
      "Result of convolution with zero padding:\n",
      "[[0.     0.0625 0.0625 0.125  0.    ]\n",
      " [0.     0.1875 0.1875 0.375  0.    ]\n",
      " [0.     0.3125 0.25   0.5    0.    ]\n",
      " [0.     0.25   0.1875 0.375  0.    ]\n",
      " [0.     0.125  0.0625 0.125  0.    ]]\n"
     ]
    }
   ],
   "source": [
    "import numpy as np\n",
    "\n",
    "def convolution_with_zero_padding(image, kernel):\n",
    "    # Get dimensions\n",
    "    img_height, img_width = image.shape\n",
    "    kernel_height, kernel_width = kernel.shape\n",
    "    \n",
    "    # Calculate zero padding size\n",
    "    pad_height = kernel_height // 2\n",
    "    pad_width = kernel_width // 2\n",
    "    \n",
    "    # Pad the image with zeros\n",
    "    padded_image = np.pad(image, ((pad_height, pad_height), (pad_width, pad_width)), mode='constant')\n",
    "    # print(kernel)\n",
    "    \n",
    "    # Convolution\n",
    "    # flipped_kernel = np.flipud(np.fliplr(kernel))\n",
    "    flipped_kernel = kernel\n",
    "    output = np.zeros_like(image)\n",
    "    for i in range(img_height):\n",
    "        for j in range(img_width):\n",
    "            output[i, j] = np.sum(padded_image[i:i+kernel_height, j:j+kernel_width] * flipped_kernel)\n",
    "    \n",
    "    return output\n",
    "\n",
    "# Example usage\n",
    "image = np.array([[0,0,0,0,0],\n",
    "                  [0,0,1,0,0],\n",
    "                  [0,0,1,0,0],\n",
    "                  [0,0,1,0,0],\n",
    "                  [0,0,0,0,0]])\n",
    "\n",
    "kernel = np.array([[2, 1, 2],\n",
    "                   [4, 2, 2],\n",
    "                   [2, 1, 1]])\n",
    "\n",
    "result = convolution_with_zero_padding(image, kernel)\n",
    "print(\"Result of convolution with zero padding:\")\n",
    "print(result /16)"
   ],
   "metadata": {
    "collapsed": false,
    "ExecuteTime": {
     "end_time": "2024-03-19T12:28:37.413362800Z",
     "start_time": "2024-03-19T12:28:37.413362800Z"
    }
   },
   "id": "598f913ad125a3f0"
  }
 ],
 "metadata": {
  "kernelspec": {
   "display_name": "Python 3",
   "language": "python",
   "name": "python3"
  },
  "language_info": {
   "codemirror_mode": {
    "name": "ipython",
    "version": 2
   },
   "file_extension": ".py",
   "mimetype": "text/x-python",
   "name": "python",
   "nbconvert_exporter": "python",
   "pygments_lexer": "ipython2",
   "version": "2.7.6"
  }
 },
 "nbformat": 4,
 "nbformat_minor": 5
}
