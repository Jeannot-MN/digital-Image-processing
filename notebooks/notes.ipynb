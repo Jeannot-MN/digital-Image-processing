{
 "cells": [
  {
   "cell_type": "markdown",
   "source": [
    "# Some terminology\n",
    "\n",
    ">__Spatial Resolution__: This is the total number pixels contained in the image, usaly denote as $ R * C $, where R is the number of rows and C the number of columns.(e.g $32 * 32$)\n",
    ">__Temporal Resolution__: This is how many images frames are being captured in a period of time, usually seconds, e.g. 25fps\n",
    ">__Bit Resolution__: This is how many bits are needed to represent the intensity at each pixels and as well as the number of intensity levels on the image, e.g. 8bit would mean we have 256 levels (0 -> 255)\n",
    ">__Dynamic Range__:  Closely related to bit resolution, this is the range of intensity values a pixel can take, e.g. for an 8 bit image, the dynamic range is 256"
   ],
   "metadata": {
    "collapsed": false
   },
   "id": "4b43d4dd0a79ee45"
  }
 ],
 "metadata": {
  "kernelspec": {
   "display_name": "Python 3",
   "language": "python",
   "name": "python3"
  },
  "language_info": {
   "codemirror_mode": {
    "name": "ipython",
    "version": 2
   },
   "file_extension": ".py",
   "mimetype": "text/x-python",
   "name": "python",
   "nbconvert_exporter": "python",
   "pygments_lexer": "ipython2",
   "version": "2.7.6"
  }
 },
 "nbformat": 4,
 "nbformat_minor": 5
}
