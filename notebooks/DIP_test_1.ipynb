{
 "cells": [
  {
   "cell_type": "code",
   "execution_count": 2,
   "id": "5344c5dd",
   "metadata": {},
   "outputs": [],
   "source": []
  },
  {
   "cell_type": "code",
   "execution_count": null,
   "id": "0da3f3b4",
   "metadata": {},
   "outputs": [],
   "source": [
    "def exact_histogram_matching(im, im_target, K):\n",
    "    # input_histogram, _ = np.histogram(poppies_img, 256)\n",
    "    target_histogram, _ = np.histogram(cherry_tree_img, 256)\n",
    "    # \n",
    "    # show_histograms(input_histogram, target_histogram)\n",
    "    img_size = im.shape[0] * im.shape[1]\n",
    "    \n",
    "    #We want to keep track of the original linear index and it original pixel value\n",
    "    matrix_q_with_references = np.empty((img_size, K + 2))\n",
    "    matrix_q_with_references[:, 0] = im.reshape((img_size,))\n",
    "    matrix_q_with_references[:, -1] = np.arange(img_size).transpose()\n",
    "    \n",
    "    kernels = getKernels(K)\n",
    "    matrix_q = ((np.array([correlate2d(img, k, boundary='symm', mode='same') for k in kernels])\n",
    "                .reshape((K, img_size)))\n",
    "                .transpose())\n",
    "    \n",
    "    for dimension in range(0, K):\n",
    "            matrix_q_with_references[:, dimension + 1] = matrix_q[:, dimension]\n",
    "    \n",
    "    #We want to keep track of the original linear index and it original pixel value\n",
    "    # matrix_q_with_references = np.empty((matrix_q.shape[0], matrix_q.shape[1] + 2))\n",
    "    # matrix_q_with_references[:, 0] = np.arange(img_size).transpose()\n",
    "    # matrix_q_with_references[:, -1] = im.reshape((img_size,))\n",
    "    # \n",
    "    # for dimension in range(0, K):\n",
    "    #         matrix_q_with_references[:, dimension + 1] = matrix_q[:, dimension]\n",
    "    # # matrix_q_with_references[:, 2:] = matrix_q\n",
    "    \n",
    "    matrix_o = matrix_q_with_references[np.lexsort(np.rot90(matrix_q_with_references))]\n",
    "    \n",
    "    print(matrix_q_with_references)\n",
    "    print(matrix_o)\n",
    "    \n",
    "    start_index = 0\n",
    "    for intensity_level in range(0, len(target_histogram)):\n",
    "        end_index = start_index + target_histogram[intensity_level]\n",
    "    \n",
    "    return matrix_q\n",
    "            "
   ]
  }
 ],
 "metadata": {
  "kernelspec": {
   "display_name": "Python 3 (ipykernel)",
   "language": "python",
   "name": "python3"
  },
  "language_info": {
   "codemirror_mode": {
    "name": "ipython",
    "version": 3
   },
   "file_extension": ".py",
   "mimetype": "text/x-python",
   "name": "python",
   "nbconvert_exporter": "python",
   "pygments_lexer": "ipython3",
   "version": "3.10.12"
  }
 },
 "nbformat": 4,
 "nbformat_minor": 5
}
